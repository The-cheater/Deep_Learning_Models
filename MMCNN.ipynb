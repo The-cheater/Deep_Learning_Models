{
  "nbformat": 4,
  "nbformat_minor": 0,
  "metadata": {
    "colab": {
      "provenance": [],
      "gpuType": "T4",
      "authorship_tag": "ABX9TyMIWphP++NL+/IwsAMpMSOp",
      "include_colab_link": true
    },
    "kernelspec": {
      "name": "python3",
      "display_name": "Python 3"
    },
    "language_info": {
      "name": "python"
    },
    "accelerator": "GPU"
  },
  "cells": [
    {
      "cell_type": "markdown",
      "metadata": {
        "id": "view-in-github",
        "colab_type": "text"
      },
      "source": [
        "<a href=\"https://colab.research.google.com/github/The-cheater/Deep_Learning_Models/blob/main/MMCNN.ipynb\" target=\"_parent\"><img src=\"https://colab.research.google.com/assets/colab-badge.svg\" alt=\"Open In Colab\"/></a>"
      ]
    },
    {
      "cell_type": "code",
      "execution_count": 1,
      "metadata": {
        "id": "2cgcHNIjrNww"
      },
      "outputs": [],
      "source": [
        "import zipfile\n",
        "import os\n",
        "\n",
        "# Unzip GAF and MTF images\n",
        "gaf_zip = \"/content/GAF_Images_224x224.zip\"\n",
        "mtf_zip = \"/content/MTF_Images_224x224.zip\"\n",
        "\n",
        "with zipfile.ZipFile(gaf_zip, 'r') as zip_ref:\n",
        "    zip_ref.extractall(\"/content/GAF_Images_224x224\")\n",
        "\n",
        "with zipfile.ZipFile(mtf_zip, 'r') as zip_ref:\n",
        "    zip_ref.extractall(\"/content/MTF_Images_224x224\")\n"
      ]
    },
    {
      "cell_type": "code",
      "source": [
        "import numpy as np\n",
        "import tensorflow as tf\n",
        "from tensorflow.keras.utils import Sequence\n",
        "from tensorflow.keras.preprocessing.image import load_img, img_to_array\n",
        "from sklearn.preprocessing import LabelEncoder\n",
        "import os, random\n",
        "\n",
        "class GAFMTFGenerator(Sequence):\n",
        "    def __init__(self, gaf_dir, mtf_dir, batch_size=32, image_size=(224, 224), shuffle=True):\n",
        "        self.gaf_dir = gaf_dir\n",
        "        self.mtf_dir = mtf_dir\n",
        "        self.batch_size = batch_size\n",
        "        self.image_size = image_size\n",
        "        self.shuffle = shuffle\n",
        "\n",
        "        self.class_names = sorted(os.listdir(gaf_dir))\n",
        "        self.label_encoder = LabelEncoder()\n",
        "        self.label_encoder.fit(self.class_names)\n",
        "\n",
        "        self.samples = []\n",
        "        for label in self.class_names:\n",
        "            gaf_path = os.path.join(gaf_dir, label)\n",
        "            mtf_path = os.path.join(mtf_dir, label)\n",
        "            for fname in os.listdir(gaf_path):\n",
        "                if fname.endswith(\".png\") and os.path.exists(os.path.join(mtf_path, label, fname)):\n",
        "                    self.samples.append((os.path.join(gaf_path, label, fname),\n",
        "                                         os.path.join(mtf_path, label, fname),\n",
        "                                         label))\n",
        "        print(f\"📦 Total image pairs loaded: {len(self.samples)}\")\n",
        "        if self.shuffle:\n",
        "            random.shuffle(self.samples)\n",
        "\n",
        "    def __len__(self):\n",
        "        return len(self.samples) // self.batch_size\n",
        "\n",
        "    def __getitem__(self, idx):\n",
        "        batch = self.samples[idx * self.batch_size : (idx + 1) * self.batch_size]\n",
        "        gaf_batch, mtf_batch, labels = [], [], []\n",
        "\n",
        "        for gaf_path, mtf_path, label in batch:\n",
        "            gaf_img = img_to_array(load_img(gaf_path, target_size=self.image_size)) / 255.0\n",
        "            mtf_img = img_to_array(load_img(mtf_path, target_size=self.image_size)) / 255.0\n",
        "            gaf_batch.append(gaf_img)\n",
        "            mtf_batch.append(mtf_img)\n",
        "            labels.append(label)\n",
        "\n",
        "        gaf_batch = np.array(gaf_batch)\n",
        "        mtf_batch = np.array(mtf_batch)\n",
        "        labels = self.label_encoder.transform(labels)\n",
        "        labels = tf.keras.utils.to_categorical(labels, num_classes=len(self.class_names))\n",
        "\n",
        "        return {\"gaf_input\": gaf_batch, \"mtf_input\": mtf_batch}, labels\n",
        "\n",
        "    def on_epoch_end(self):\n",
        "        if self.shuffle:\n",
        "            random.shuffle(self.samples)\n"
      ],
      "metadata": {
        "id": "Br2rvyWHsj68"
      },
      "execution_count": 21,
      "outputs": []
    },
    {
      "cell_type": "code",
      "source": [
        "model = build_mmcnn(input_shape=(224, 224, 3), num_classes=4)\n",
        "model.compile(optimizer='adam', loss='categorical_crossentropy', metrics=['accuracy'])\n"
      ],
      "metadata": {
        "id": "ogbvtxPJsmeQ"
      },
      "execution_count": 22,
      "outputs": []
    },
    {
      "cell_type": "code",
      "source": [
        "gaf_path = \"/content/GAF_Images_224x224/GAF_Images_224x224/Left Stride Interval\"\n",
        "mtf_path = \"/content/MTF_Images_224x224/MTF_Images_224x224/Left Stride Interval\"\n",
        "\n",
        "train_gen = GAFMTFGenerator(gaf_path, mtf_path, batch_size=16)\n",
        "model.fit(train_gen, epochs=20)\n"
      ],
      "metadata": {
        "colab": {
          "base_uri": "https://localhost:8080/",
          "height": 445
        },
        "id": "f9I4x6qVsrx-",
        "outputId": "07b2b9df-79aa-4712-b93b-53c96eb3fd9e"
      },
      "execution_count": 24,
      "outputs": [
        {
          "output_type": "stream",
          "name": "stdout",
          "text": [
            "📦 Total image pairs loaded: 0\n"
          ]
        },
        {
          "output_type": "stream",
          "name": "stderr",
          "text": [
            "/usr/local/lib/python3.11/dist-packages/keras/src/trainers/data_adapters/py_dataset_adapter.py:121: UserWarning: Your `PyDataset` class should call `super().__init__(**kwargs)` in its constructor. `**kwargs` can include `workers`, `use_multiprocessing`, `max_queue_size`. Do not pass these arguments to `fit()`, as they will be ignored.\n",
            "  self._warn_if_super_not_called()\n"
          ]
        },
        {
          "output_type": "error",
          "ename": "ValueError",
          "evalue": "The PyDataset has length 0",
          "traceback": [
            "\u001b[0;31m---------------------------------------------------------------------------\u001b[0m",
            "\u001b[0;31mValueError\u001b[0m                                Traceback (most recent call last)",
            "\u001b[0;32m<ipython-input-24-72823f470455>\u001b[0m in \u001b[0;36m<cell line: 0>\u001b[0;34m()\u001b[0m\n\u001b[1;32m      3\u001b[0m \u001b[0;34m\u001b[0m\u001b[0m\n\u001b[1;32m      4\u001b[0m \u001b[0mtrain_gen\u001b[0m \u001b[0;34m=\u001b[0m \u001b[0mGAFMTFGenerator\u001b[0m\u001b[0;34m(\u001b[0m\u001b[0mgaf_path\u001b[0m\u001b[0;34m,\u001b[0m \u001b[0mmtf_path\u001b[0m\u001b[0;34m,\u001b[0m \u001b[0mbatch_size\u001b[0m\u001b[0;34m=\u001b[0m\u001b[0;36m16\u001b[0m\u001b[0;34m)\u001b[0m\u001b[0;34m\u001b[0m\u001b[0;34m\u001b[0m\u001b[0m\n\u001b[0;32m----> 5\u001b[0;31m \u001b[0mmodel\u001b[0m\u001b[0;34m.\u001b[0m\u001b[0mfit\u001b[0m\u001b[0;34m(\u001b[0m\u001b[0mtrain_gen\u001b[0m\u001b[0;34m,\u001b[0m \u001b[0mepochs\u001b[0m\u001b[0;34m=\u001b[0m\u001b[0;36m20\u001b[0m\u001b[0;34m)\u001b[0m\u001b[0;34m\u001b[0m\u001b[0;34m\u001b[0m\u001b[0m\n\u001b[0m",
            "\u001b[0;32m/usr/local/lib/python3.11/dist-packages/keras/src/utils/traceback_utils.py\u001b[0m in \u001b[0;36merror_handler\u001b[0;34m(*args, **kwargs)\u001b[0m\n\u001b[1;32m    120\u001b[0m             \u001b[0;31m# To get the full stack trace, call:\u001b[0m\u001b[0;34m\u001b[0m\u001b[0;34m\u001b[0m\u001b[0m\n\u001b[1;32m    121\u001b[0m             \u001b[0;31m# `keras.config.disable_traceback_filtering()`\u001b[0m\u001b[0;34m\u001b[0m\u001b[0;34m\u001b[0m\u001b[0m\n\u001b[0;32m--> 122\u001b[0;31m             \u001b[0;32mraise\u001b[0m \u001b[0me\u001b[0m\u001b[0;34m.\u001b[0m\u001b[0mwith_traceback\u001b[0m\u001b[0;34m(\u001b[0m\u001b[0mfiltered_tb\u001b[0m\u001b[0;34m)\u001b[0m \u001b[0;32mfrom\u001b[0m \u001b[0;32mNone\u001b[0m\u001b[0;34m\u001b[0m\u001b[0;34m\u001b[0m\u001b[0m\n\u001b[0m\u001b[1;32m    123\u001b[0m         \u001b[0;32mfinally\u001b[0m\u001b[0;34m:\u001b[0m\u001b[0;34m\u001b[0m\u001b[0;34m\u001b[0m\u001b[0m\n\u001b[1;32m    124\u001b[0m             \u001b[0;32mdel\u001b[0m \u001b[0mfiltered_tb\u001b[0m\u001b[0;34m\u001b[0m\u001b[0;34m\u001b[0m\u001b[0m\n",
            "\u001b[0;32m/usr/local/lib/python3.11/dist-packages/keras/src/trainers/data_adapters/py_dataset_adapter.py\u001b[0m in \u001b[0;36mget_tf_dataset\u001b[0;34m(self)\u001b[0m\n\u001b[1;32m    293\u001b[0m             ]\n\u001b[1;32m    294\u001b[0m             \u001b[0;32mif\u001b[0m \u001b[0mlen\u001b[0m\u001b[0;34m(\u001b[0m\u001b[0mbatches\u001b[0m\u001b[0;34m)\u001b[0m \u001b[0;34m==\u001b[0m \u001b[0;36m0\u001b[0m\u001b[0;34m:\u001b[0m\u001b[0;34m\u001b[0m\u001b[0;34m\u001b[0m\u001b[0m\n\u001b[0;32m--> 295\u001b[0;31m                 \u001b[0;32mraise\u001b[0m \u001b[0mValueError\u001b[0m\u001b[0;34m(\u001b[0m\u001b[0;34m\"The PyDataset has length 0\"\u001b[0m\u001b[0;34m)\u001b[0m\u001b[0;34m\u001b[0m\u001b[0;34m\u001b[0m\u001b[0m\n\u001b[0m\u001b[1;32m    296\u001b[0m             \u001b[0mself\u001b[0m\u001b[0;34m.\u001b[0m\u001b[0m_output_signature\u001b[0m \u001b[0;34m=\u001b[0m \u001b[0mdata_adapter_utils\u001b[0m\u001b[0;34m.\u001b[0m\u001b[0mget_tensor_spec\u001b[0m\u001b[0;34m(\u001b[0m\u001b[0mbatches\u001b[0m\u001b[0;34m)\u001b[0m\u001b[0;34m\u001b[0m\u001b[0;34m\u001b[0m\u001b[0m\n\u001b[1;32m    297\u001b[0m \u001b[0;34m\u001b[0m\u001b[0m\n",
            "\u001b[0;31mValueError\u001b[0m: The PyDataset has length 0"
          ]
        }
      ]
    }
  ]
}